{
  "cells": [
    {
      "cell_type": "markdown",
      "metadata": {
        "id": "view-in-github",
        "colab_type": "text"
      },
      "source": [
        "<a href=\"https://colab.research.google.com/github/Tetuwo181/YoloDemo/blob/main/demo_yolo.ipynb\" target=\"_parent\"><img src=\"https://colab.research.google.com/assets/colab-badge.svg\" alt=\"Open In Colab\"/></a>"
      ]
    },
    {
      "cell_type": "markdown",
      "metadata": {
        "id": "6y4PLlVrzN4F"
      },
      "source": [
        "必要なライブラリをインストール"
      ]
    },
    {
      "cell_type": "code",
      "execution_count": null,
      "metadata": {
        "id": "zsJiMXjJugtG"
      },
      "outputs": [],
      "source": [
        "!pip install -U ultralytics"
      ]
    },
    {
      "cell_type": "markdown",
      "metadata": {
        "id": "Zmd7SeKGzTnN"
      },
      "source": [
        "必要なライブラリをインポート"
      ]
    },
    {
      "cell_type": "code",
      "execution_count": null,
      "metadata": {
        "id": "V_RqKEYbzZiB"
      },
      "outputs": [],
      "source": [
        "import torch\n",
        "import os # パス周りの操作に必要\n",
        "from IPython.display import Image,display_jpeg # 結果を表示するために必要"
      ]
    },
    {
      "cell_type": "markdown",
      "metadata": {
        "id": "lCLhqrawzl1H"
      },
      "source": [
        "モデルをダウンロード"
      ]
    },
    {
      "cell_type": "code",
      "execution_count": null,
      "metadata": {
        "id": "ruXS2Vf0tNWc"
      },
      "outputs": [],
      "source": [
        "model = torch.hub.load('ultralytics/yolov5', 'yolov5s', pretrained=True)"
      ]
    },
    {
      "cell_type": "markdown",
      "metadata": {
        "id": "31g_N_Rfy4mJ"
      },
      "source": [
        "画像内の物体を検知"
      ]
    },
    {
      "cell_type": "code",
      "execution_count": null,
      "metadata": {
        "colab": {
          "background_save": true
        },
        "id": "FIQXLk_7tVr3"
      },
      "outputs": [],
      "source": [
        "target_path = \"対象となる画像のパスを入れる\"\n",
        "save_dir = target_path.split(\"/\")[-1].split(\".\")[0]\n",
        "result_img_path = os.path.join(save_dir, target_path.split(\"/\")[-1])\n",
        "results = model(target_path)\n",
        "results.save(save_dir=save_dir)\n",
        "display_jpeg(Image(result_img_path))"
      ]
    },
    {
      "cell_type": "code",
      "execution_count": null,
      "metadata": {
        "id": "8fW3gbXGy1Nh"
      },
      "outputs": [],
      "source": []
    }
  ],
  "metadata": {
    "colab": {
      "provenance": [],
      "authorship_tag": "ABX9TyOOiq2TqZGnlE7CbczXH7Aw",
      "include_colab_link": true
    },
    "kernelspec": {
      "display_name": "Python 3",
      "name": "python3"
    },
    "language_info": {
      "name": "python"
    }
  },
  "nbformat": 4,
  "nbformat_minor": 0
}