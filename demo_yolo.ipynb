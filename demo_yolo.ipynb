{
  "cells": [
    {
      "cell_type": "markdown",
      "metadata": {
        "id": "view-in-github",
        "colab_type": "text"
      },
      "source": [
        "<a href=\"https://colab.research.google.com/github/Tetuwo181/YoloDemo/blob/main/demo_yolo.ipynb\" target=\"_parent\"><img src=\"https://colab.research.google.com/assets/colab-badge.svg\" alt=\"Open In Colab\"/></a>"
      ]
    },
    {
      "cell_type": "markdown",
      "metadata": {
        "id": "6y4PLlVrzN4F"
      },
      "source": [
        "必要なライブラリをインストール"
      ]
    },
    {
      "cell_type": "code",
      "execution_count": null,
      "metadata": {
        "id": "zsJiMXjJugtG"
      },
      "outputs": [],
      "source": [
        "!pip install -U ultralytics"
      ]
    },
    {
      "cell_type": "markdown",
      "metadata": {
        "id": "Zmd7SeKGzTnN"
      },
      "source": [
        "必要なライブラリをインポート"
      ]
    },
    {
      "cell_type": "code",
      "execution_count": null,
      "metadata": {
        "id": "V_RqKEYbzZiB"
      },
      "outputs": [],
      "source": [
        "import torch\n",
        "import os # パス周りの操作に必要\n",
        "from IPython.display import Image,display_jpeg # 結果を表示するために必要"
      ]
    },
    {
      "cell_type": "markdown",
      "metadata": {
        "id": "lCLhqrawzl1H"
      },
      "source": [
        "モデルをダウンロード"
      ]
    },
    {
      "cell_type": "code",
      "execution_count": null,
      "metadata": {
        "id": "ruXS2Vf0tNWc"
      },
      "outputs": [],
      "source": [
        "model = torch.hub.load('ultralytics/yolov5', 'yolov5s', pretrained=True)"
      ]
    },
    {
      "cell_type": "markdown",
      "metadata": {
        "id": "31g_N_Rfy4mJ"
      },
      "source": [
        "画像内の物体を検知"
      ]
    },
    {
      "cell_type": "code",
      "execution_count": null,
      "metadata": {
        "id": "FIQXLk_7tVr3"
      },
      "outputs": [],
      "source": [
        "target_path = \"ここに対象となるファイルのパスを入れる\"\n",
        "save_dir = target_path.split(\"/\")[-1].split(\".\")[0]\n",
        "result_img_path = os.path.join(save_dir, target_path.split(\"/\")[-1])\n",
        "results = model(target_path)\n"
      ]
    },
    {
      "cell_type": "markdown",
      "source": [
        "結果を表示"
      ],
      "metadata": {
        "id": "bVLKFMBWRHr9"
      }
    },
    {
      "cell_type": "code",
      "source": [
        "results.print() # どのようなオブジェクトが検出されたかを表示\n",
        "\n",
        "print(results.pandas().xyxy[0]) # pandasのDataFrame型で結果の座標を返す　この場合はオブジェクトの四隅を出力\n",
        "print(results.pandas().xywh[0])# pandasのDataFrame型で結果の座標を返す　この場合はオブジェクトの中心地のx座標とy座標、オブジェクトの高さと横幅を返す"
      ],
      "metadata": {
        "id": "9uE1ME1LRJpN"
      },
      "execution_count": null,
      "outputs": []
    },
    {
      "cell_type": "markdown",
      "source": [
        "結果を座標へ反映"
      ],
      "metadata": {
        "id": "bm99AuuRRK2J"
      }
    },
    {
      "cell_type": "code",
      "execution_count": null,
      "metadata": {
        "id": "8fW3gbXGy1Nh"
      },
      "outputs": [],
      "source": [
        "results.save(save_dir=save_dir) # 結果を指定したディレクトリへ保存\n",
        "display_jpeg(Image(result_img_path)) # 保存された結果を表示"
      ]
    },
    {
      "cell_type": "markdown",
      "source": [
        "OpenCVから試す場合"
      ],
      "metadata": {
        "id": "ui2Txv44BAuw"
      }
    },
    {
      "cell_type": "code",
      "source": [
        "import cv2 #OpenCV読み込み\n",
        "target_cv_path = \"ここに対象となるファイルのパスを入れる\"\n",
        "img_cv = cv2.imread(target_cv_path) # OpenCVを使って画像を読み込み\n",
        "save_cv_dir = target_cv_path.split(\"/\")[-1].split(\".\")[0]\n",
        "results_cv = model(img_cv)\n",
        "result_img_cv_path = os.path.join(save_cv_dir, \"image0.jpg\")\n",
        "print(results_cv.pandas().xyxy[0]) # pandasのDataFrame型で結果の座標を返す　この場合はオブジェクトの四隅を出力\n",
        "print(results_cv.pandas().xywh[0])# pandasのDataFrame型で結果の座標を返す　この場合はオブジェクトの中心地のx座標とy座標、オブジェクトの高さと横幅を返す\n",
        "results_cv.save(save_dir=save_cv_dir) # 結果を指定したディレクトリへ保存\n",
        "display_jpeg(Image(result_img_cv_path)) # 保存された結果を表示"
      ],
      "metadata": {
        "id": "gt0zOWRpBFA6"
      },
      "execution_count": null,
      "outputs": []
    }
  ],
  "metadata": {
    "colab": {
      "provenance": [],
      "authorship_tag": "ABX9TyMIHWoLK5I4Eco+5+nuf56k",
      "include_colab_link": true
    },
    "kernelspec": {
      "display_name": "Python 3",
      "name": "python3"
    },
    "language_info": {
      "name": "python"
    }
  },
  "nbformat": 4,
  "nbformat_minor": 0
}